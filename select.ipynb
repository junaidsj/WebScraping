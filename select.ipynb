{
 "cells": [
  {
   "cell_type": "code",
   "execution_count": 2,
   "id": "18d06cda-0293-4b5e-85a5-4738d6dbe914",
   "metadata": {},
   "outputs": [
    {
     "name": "stdout",
     "output_type": "stream",
     "text": [
      "                         Company Revenue (USD millions)\n",
      "0                         Retail                $19,436\n",
      "1  Retail information technology                $59,248\n",
      "2                    Electricity                 $9,204\n",
      "3                    Oil and gas               $106,246\n",
      "4                       $429,700                513,434\n"
     ]
    }
   ],
   "source": [
    "import requests\n",
    "import pandas as pd\n",
    "from bs4 import BeautifulSoup\n",
    "\n",
    "url = \"https://en.wikipedia.org/wiki/List_of_largest_companies_by_revenue\"\n",
    "response = requests.get(url)\n",
    "soup = BeautifulSoup(response.text, \"html.parser\")\n",
    "table = soup.find('table', class_=\"wikitable\")\n",
    "\n",
    "companies = []\n",
    "revenues = []\n",
    "\n",
    "rows = table.find_all('tr')[1:]\n",
    "\n",
    "for row in rows:\n",
    "    columns = row.find_all('td')\n",
    "    if len(columns) >= 4:\n",
    "        company = columns[1].text.strip()\n",
    "        revenue = columns[3].text.strip()\n",
    "        companies.append(company)\n",
    "        revenues.append(revenue)\n",
    "\n",
    "df = pd.DataFrame({\n",
    "    'Company': companies,\n",
    "    'Revenue (USD millions)': revenues\n",
    "})\n",
    "\n",
    "print(df.head())"
   ]
  },
  {
   "cell_type": "code",
   "execution_count": null,
   "id": "f06617d2-0078-4c7d-ab26-8637e2960014",
   "metadata": {},
   "outputs": [],
   "source": []
  }
 ],
 "metadata": {
  "kernelspec": {
   "display_name": "Python 3 (ipykernel)",
   "language": "python",
   "name": "python3"
  },
  "language_info": {
   "codemirror_mode": {
    "name": "ipython",
    "version": 3
   },
   "file_extension": ".py",
   "mimetype": "text/x-python",
   "name": "python",
   "nbconvert_exporter": "python",
   "pygments_lexer": "ipython3",
   "version": "3.12.7"
  }
 },
 "nbformat": 4,
 "nbformat_minor": 5
}
